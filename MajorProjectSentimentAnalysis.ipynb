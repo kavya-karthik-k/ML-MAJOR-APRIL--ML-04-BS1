{
  "nbformat": 4,
  "nbformat_minor": 0,
  "metadata": {
    "colab": {
      "name": "MajorProjectSentimentAnalysis.ipynb",
      "provenance": [],
      "mount_file_id": "1YPOo9Kx3tCYsp1NzM4Gt96ZV8uBTPGY_",
      "authorship_tag": "ABX9TyN1Y4kJCZ+kQ6HdhMdvr4qo",
      "include_colab_link": true
    },
    "kernelspec": {
      "name": "python3",
      "display_name": "Python 3"
    },
    "language_info": {
      "name": "python"
    }
  },
  "cells": [
    {
      "cell_type": "markdown",
      "metadata": {
        "id": "view-in-github",
        "colab_type": "text"
      },
      "source": [
        "<a href=\"https://colab.research.google.com/github/kavya-karthik-k/ML-MAJOR-APRIL--ML-04-BS1/blob/main/MajorProjectSentimentAnalysis.ipynb\" target=\"_parent\"><img src=\"https://colab.research.google.com/assets/colab-badge.svg\" alt=\"Open In Colab\"/></a>"
      ]
    },
    {
      "cell_type": "code",
      "metadata": {
        "colab": {
          "base_uri": "https://localhost:8080/"
        },
        "id": "TEMUj2YgjTua",
        "outputId": "46e5d7b4-4054-4629-be9c-e1c4d55b5497"
      },
      "source": [
        "!pip install contractions --quiet\n",
        "!pip install streamlit --quiet\n",
        "!pip install pyngrok==4.1.1 --quiet"
      ],
      "execution_count": 1,
      "outputs": [
        {
          "output_type": "stream",
          "text": [
            "\u001b[K     |████████████████████████████████| 327kB 2.9MB/s \n",
            "\u001b[K     |████████████████████████████████| 286kB 21.6MB/s \n",
            "\u001b[?25h  Building wheel for pyahocorasick (setup.py) ... \u001b[?25l\u001b[?25hdone\n",
            "\u001b[K     |████████████████████████████████| 8.2MB 2.9MB/s \n",
            "\u001b[K     |████████████████████████████████| 174kB 43.0MB/s \n",
            "\u001b[K     |████████████████████████████████| 81kB 7.8MB/s \n",
            "\u001b[K     |████████████████████████████████| 112kB 43.9MB/s \n",
            "\u001b[K     |████████████████████████████████| 4.2MB 36.3MB/s \n",
            "\u001b[K     |████████████████████████████████| 71kB 7.9MB/s \n",
            "\u001b[K     |████████████████████████████████| 122kB 42.6MB/s \n",
            "\u001b[?25h  Building wheel for blinker (setup.py) ... \u001b[?25l\u001b[?25hdone\n",
            "\u001b[31mERROR: google-colab 1.0.0 has requirement ipykernel~=4.10, but you'll have ipykernel 5.5.5 which is incompatible.\u001b[0m\n",
            "  Building wheel for pyngrok (setup.py) ... \u001b[?25l\u001b[?25hdone\n"
          ],
          "name": "stdout"
        }
      ]
    },
    {
      "cell_type": "code",
      "metadata": {
        "id": "4HynYLYmjc6N"
      },
      "source": [
        "#packages\n",
        "import pandas as pd\n",
        "import nltk\n",
        "import requests\n",
        "from bs4 import BeautifulSoup\n",
        "import contractions\n",
        "import re\n",
        "from nltk.tokenize.toktok import ToktokTokenizer\n",
        "from sklearn.model_selection import train_test_split\n",
        "from sklearn.feature_extraction.text import TfidfVectorizer\n",
        "from sklearn.svm import SVC\n",
        "from sklearn.metrics import confusion_matrix,accuracy_score,classification_report\n",
        "from sklearn.pipeline import Pipeline\n",
        "import joblib\n",
        "from pyngrok import ngrok"
      ],
      "execution_count": 2,
      "outputs": []
    },
    {
      "cell_type": "code",
      "metadata": {
        "colab": {
          "base_uri": "https://localhost:8080/",
          "height": 204
        },
        "id": "jX14cOTAjpUe",
        "outputId": "e0bce06b-e9fd-4361-ca30-d32762d56215"
      },
      "source": [
        "df= pd.read_csv('/content/drive/MyDrive/IMDB Dataset.csv')\n",
        "df=df.iloc[:1000,:]\n",
        "df.head()"
      ],
      "execution_count": 3,
      "outputs": [
        {
          "output_type": "execute_result",
          "data": {
            "text/html": [
              "<div>\n",
              "<style scoped>\n",
              "    .dataframe tbody tr th:only-of-type {\n",
              "        vertical-align: middle;\n",
              "    }\n",
              "\n",
              "    .dataframe tbody tr th {\n",
              "        vertical-align: top;\n",
              "    }\n",
              "\n",
              "    .dataframe thead th {\n",
              "        text-align: right;\n",
              "    }\n",
              "</style>\n",
              "<table border=\"1\" class=\"dataframe\">\n",
              "  <thead>\n",
              "    <tr style=\"text-align: right;\">\n",
              "      <th></th>\n",
              "      <th>review</th>\n",
              "      <th>sentiment</th>\n",
              "    </tr>\n",
              "  </thead>\n",
              "  <tbody>\n",
              "    <tr>\n",
              "      <th>0</th>\n",
              "      <td>One of the other reviewers has mentioned that ...</td>\n",
              "      <td>positive</td>\n",
              "    </tr>\n",
              "    <tr>\n",
              "      <th>1</th>\n",
              "      <td>A wonderful little production. &lt;br /&gt;&lt;br /&gt;The...</td>\n",
              "      <td>positive</td>\n",
              "    </tr>\n",
              "    <tr>\n",
              "      <th>2</th>\n",
              "      <td>I thought this was a wonderful way to spend ti...</td>\n",
              "      <td>positive</td>\n",
              "    </tr>\n",
              "    <tr>\n",
              "      <th>3</th>\n",
              "      <td>Basically there's a family where a little boy ...</td>\n",
              "      <td>negative</td>\n",
              "    </tr>\n",
              "    <tr>\n",
              "      <th>4</th>\n",
              "      <td>Petter Mattei's \"Love in the Time of Money\" is...</td>\n",
              "      <td>positive</td>\n",
              "    </tr>\n",
              "  </tbody>\n",
              "</table>\n",
              "</div>"
            ],
            "text/plain": [
              "                                              review sentiment\n",
              "0  One of the other reviewers has mentioned that ...  positive\n",
              "1  A wonderful little production. <br /><br />The...  positive\n",
              "2  I thought this was a wonderful way to spend ti...  positive\n",
              "3  Basically there's a family where a little boy ...  negative\n",
              "4  Petter Mattei's \"Love in the Time of Money\" is...  positive"
            ]
          },
          "metadata": {
            "tags": []
          },
          "execution_count": 3
        }
      ]
    },
    {
      "cell_type": "code",
      "metadata": {
        "colab": {
          "base_uri": "https://localhost:8080/"
        },
        "id": "FYq9AZbkj4Ua",
        "outputId": "49e5bf09-a020-4cbf-8b4f-3c0527fe11c6"
      },
      "source": [
        "from google.colab import drive\n",
        "drive.mount('/content/drive')"
      ],
      "execution_count": 4,
      "outputs": [
        {
          "output_type": "stream",
          "text": [
            "Drive already mounted at /content/drive; to attempt to forcibly remount, call drive.mount(\"/content/drive\", force_remount=True).\n"
          ],
          "name": "stdout"
        }
      ]
    },
    {
      "cell_type": "code",
      "metadata": {
        "colab": {
          "base_uri": "https://localhost:8080/"
        },
        "id": "UJ63C44Mj83p",
        "outputId": "82964028-bf0c-4007-8748-2e03b3e10603"
      },
      "source": [
        "nltk.download('stopwords')\n",
        "stopword_list = nltk.corpus.stopwords.words('english')\n",
        "stopword_list.remove('no')\n",
        "stopword_list.remove('not')\n",
        "len(stopword_list)"
      ],
      "execution_count": 5,
      "outputs": [
        {
          "output_type": "stream",
          "text": [
            "[nltk_data] Downloading package stopwords to /root/nltk_data...\n",
            "[nltk_data]   Unzipping corpora/stopwords.zip.\n"
          ],
          "name": "stdout"
        },
        {
          "output_type": "execute_result",
          "data": {
            "text/plain": [
              "177"
            ]
          },
          "metadata": {
            "tags": []
          },
          "execution_count": 5
        }
      ]
    },
    {
      "cell_type": "code",
      "metadata": {
        "id": "L3bD84CskAxx"
      },
      "source": [
        "#HTML tag\n",
        "def html_tag(text):\n",
        "  soup = BeautifulSoup(text,\"html.parser\")\n",
        "  new_text = soup.get_text()\n",
        "  return new_text\n",
        "#Expand Contractions\n",
        "def con(text):\n",
        "  expand = contractions.fix(text)\n",
        "  return expand\n",
        "con(\"Y'all can't expand I'd think\")\n",
        "#Removing the special characters\n",
        "def remove_sp(text):\n",
        "  pattern = r'[^A-Za-z0-9\\s]'\n",
        "  text = re.sub(pattern,'',text)\n",
        "  return text\n",
        "#remove stopwords\n",
        "tokenizer = ToktokTokenizer()\n",
        "\n",
        "def remove_stopwords(text):\n",
        "  tokens = tokenizer.tokenize(text)\n",
        "  tokens = [token.strip() for token in tokens]\n",
        "  filtered_tokens = [token for token in tokens if token not in stopword_list] \n",
        "  filtered_text = ' '.join(filtered_tokens)\n",
        "  return filtered_text"
      ],
      "execution_count": 6,
      "outputs": []
    },
    {
      "cell_type": "code",
      "metadata": {
        "id": "wedXb05xkKEB"
      },
      "source": [
        "df.review = df.review.apply(lambda x:x.lower())\n",
        "df.review = df.review.apply(html_tag)\n",
        "df.review = df.review.apply(con)\n",
        "df.review = df.review.apply(remove_sp)\n",
        "df.review = df.review.apply(remove_stopwords)"
      ],
      "execution_count": 7,
      "outputs": []
    },
    {
      "cell_type": "code",
      "metadata": {
        "colab": {
          "base_uri": "https://localhost:8080/"
        },
        "id": "av0NpIMIkNzr",
        "outputId": "faba452b-5e99-4028-9f59-c0523977feb2"
      },
      "source": [
        "df.head"
      ],
      "execution_count": 8,
      "outputs": [
        {
          "output_type": "execute_result",
          "data": {
            "text/plain": [
              "<bound method NDFrame.head of                                                 review sentiment\n",
              "0    one reviewers mentioned watching 1 oz episode ...  positive\n",
              "1    wonderful little production filming technique ...  positive\n",
              "2    thought wonderful way spend time hot summer we...  positive\n",
              "3    basically family little boy jake thinks zombie...  negative\n",
              "4    petter matteis love time money visually stunni...  positive\n",
              "..                                                 ...       ...\n",
              "995  nothing sacred ask ernie fosselius days everyb...  positive\n",
              "996  hated hate selfaware pretentious inanity masqu...  negative\n",
              "997  usually try professional constructive criticiz...  negative\n",
              "998  like going see film history class something li...  negative\n",
              "999  like zoology textbook given depiction animals ...  negative\n",
              "\n",
              "[1000 rows x 2 columns]>"
            ]
          },
          "metadata": {
            "tags": []
          },
          "execution_count": 8
        }
      ]
    },
    {
      "cell_type": "code",
      "metadata": {
        "id": "WqYjhamQkSAb"
      },
      "source": [
        "x=df['review'].values\n",
        "y=df['sentiment'].values"
      ],
      "execution_count": 9,
      "outputs": []
    },
    {
      "cell_type": "code",
      "metadata": {
        "colab": {
          "base_uri": "https://localhost:8080/",
          "height": 316
        },
        "id": "2rh8w9Z4kV-L",
        "outputId": "64742dff-de0b-4b09-d6be-7b5c3be2710d"
      },
      "source": [
        "df['sentiment'].value_counts().plot(kind='bar')"
      ],
      "execution_count": 10,
      "outputs": [
        {
          "output_type": "execute_result",
          "data": {
            "text/plain": [
              "<matplotlib.axes._subplots.AxesSubplot at 0x7fa64afccd50>"
            ]
          },
          "metadata": {
            "tags": []
          },
          "execution_count": 10
        },
        {
          "output_type": "display_data",
          "data": {
            "image/png": "[encoded data removed]",
            "text/plain": [
              "<Figure size 432x288 with 1 Axes>"
            ]
          },
          "metadata": {
            "tags": [],
            "needs_background": "light"
          }
        }
      ]
    },
    {
      "cell_type": "code",
      "metadata": {
        "id": "qBf_eFvokZa3"
      },
      "source": [
        "x_train,x_test,y_train,y_test = train_test_split(x,y,random_state=0)"
      ],
      "execution_count": 11,
      "outputs": []
    },
    {
      "cell_type": "code",
      "metadata": {
        "colab": {
          "base_uri": "https://localhost:8080/"
        },
        "id": "nTKK1bKrkcv_",
        "outputId": "ceb422dd-23d2-4156-9f57-fbe39e2bf7e5"
      },
      "source": [
        "print(x_train.shape)\n",
        "print(x_test.shape)"
      ],
      "execution_count": 12,
      "outputs": [
        {
          "output_type": "stream",
          "text": [
            "(750,)\n",
            "(250,)\n"
          ],
          "name": "stdout"
        }
      ]
    },
    {
      "cell_type": "code",
      "metadata": {
        "id": "MIOo7Xk2kfy_"
      },
      "source": [
        "vect = TfidfVectorizer()\n",
        "x_train_v = vect.fit_transform(x_train)\n",
        "x_test_v = vect.transform(x_test)"
      ],
      "execution_count": 13,
      "outputs": []
    },
    {
      "cell_type": "code",
      "metadata": {
        "colab": {
          "base_uri": "https://localhost:8080/"
        },
        "id": "QbYdrvRLklFn",
        "outputId": "85f0c914-da7f-451a-b45d-77ba907c2142"
      },
      "source": [
        "model = SVC()\n",
        "model.fit(x_train_v,y_train)\n",
        "y_pred = model.predict(x_test_v)\n",
        "y_pred"
      ],
      "execution_count": 14,
      "outputs": [
        {
          "output_type": "execute_result",
          "data": {
            "text/plain": [
              "array(['negative', 'negative', 'negative', 'negative', 'positive',\n",
              "       'positive', 'positive', 'positive', 'positive', 'positive',\n",
              "       'negative', 'positive', 'negative', 'negative', 'negative',\n",
              "       'negative', 'positive', 'negative', 'negative', 'negative',\n",
              "       'positive', 'positive', 'positive', 'positive', 'negative',\n",
              "       'positive', 'positive', 'negative', 'positive', 'positive',\n",
              "       'positive', 'positive', 'positive', 'positive', 'negative',\n",
              "       'negative', 'positive', 'positive', 'negative', 'positive',\n",
              "       'negative', 'negative', 'negative', 'positive', 'negative',\n",
              "       'negative', 'negative', 'negative', 'positive', 'positive',\n",
              "       'positive', 'negative', 'negative', 'negative', 'positive',\n",
              "       'positive', 'positive', 'negative', 'positive', 'positive',\n",
              "       'negative', 'positive', 'negative', 'positive', 'negative',\n",
              "       'negative', 'negative', 'positive', 'positive', 'positive',\n",
              "       'negative', 'positive', 'negative', 'negative', 'negative',\n",
              "       'positive', 'positive', 'positive', 'positive', 'negative',\n",
              "       'negative', 'negative', 'positive', 'positive', 'positive',\n",
              "       'positive', 'positive', 'positive', 'negative', 'positive',\n",
              "       'negative', 'positive', 'positive', 'positive', 'positive',\n",
              "       'negative', 'negative', 'positive', 'negative', 'negative',\n",
              "       'positive', 'positive', 'positive', 'positive', 'positive',\n",
              "       'negative', 'negative', 'positive', 'negative', 'negative',\n",
              "       'negative', 'negative', 'negative', 'positive', 'negative',\n",
              "       'negative', 'positive', 'positive', 'positive', 'positive',\n",
              "       'positive', 'negative', 'positive', 'positive', 'negative',\n",
              "       'positive', 'negative', 'negative', 'positive', 'positive',\n",
              "       'positive', 'negative', 'negative', 'positive', 'negative',\n",
              "       'negative', 'negative', 'negative', 'negative', 'positive',\n",
              "       'negative', 'negative', 'positive', 'positive', 'negative',\n",
              "       'positive', 'positive', 'negative', 'positive', 'negative',\n",
              "       'positive', 'positive', 'positive', 'negative', 'positive',\n",
              "       'positive', 'positive', 'negative', 'positive', 'positive',\n",
              "       'negative', 'positive', 'positive', 'positive', 'positive',\n",
              "       'positive', 'positive', 'negative', 'negative', 'negative',\n",
              "       'negative', 'positive', 'positive', 'positive', 'positive',\n",
              "       'negative', 'negative', 'positive', 'negative', 'negative',\n",
              "       'negative', 'negative', 'positive', 'positive', 'negative',\n",
              "       'negative', 'negative', 'negative', 'positive', 'negative',\n",
              "       'positive', 'positive', 'positive', 'positive', 'negative',\n",
              "       'negative', 'positive', 'negative', 'positive', 'positive',\n",
              "       'negative', 'negative', 'positive', 'positive', 'positive',\n",
              "       'positive', 'positive', 'negative', 'positive', 'negative',\n",
              "       'positive', 'negative', 'negative', 'positive', 'positive',\n",
              "       'positive', 'positive', 'positive', 'negative', 'positive',\n",
              "       'negative', 'positive', 'positive', 'negative', 'positive',\n",
              "       'positive', 'negative', 'positive', 'positive', 'positive',\n",
              "       'negative', 'negative', 'positive', 'negative', 'positive',\n",
              "       'positive', 'positive', 'positive', 'positive', 'negative',\n",
              "       'positive', 'positive', 'positive', 'positive', 'negative',\n",
              "       'negative', 'positive', 'positive', 'negative', 'negative'],\n",
              "      dtype=object)"
            ]
          },
          "metadata": {
            "tags": []
          },
          "execution_count": 14
        }
      ]
    },
    {
      "cell_type": "code",
      "metadata": {
        "colab": {
          "base_uri": "https://localhost:8080/"
        },
        "id": "AoYiKVAVlAuM",
        "outputId": "93264881-8816-45c6-cef8-c3cca9f73993"
      },
      "source": [
        "accuracy_score(y_pred,y_test)"
      ],
      "execution_count": 15,
      "outputs": [
        {
          "output_type": "execute_result",
          "data": {
            "text/plain": [
              "0.804"
            ]
          },
          "metadata": {
            "tags": []
          },
          "execution_count": 15
        }
      ]
    },
    {
      "cell_type": "code",
      "metadata": {
        "colab": {
          "base_uri": "https://localhost:8080/"
        },
        "id": "wO_iidXflFBz",
        "outputId": "c0d94a20-8421-4e6b-8bdc-322a84e01a4b"
      },
      "source": [
        "confusion_matrix(y_pred,y_test)"
      ],
      "execution_count": 16,
      "outputs": [
        {
          "output_type": "execute_result",
          "data": {
            "text/plain": [
              "array([[ 99,  11],\n",
              "       [ 38, 102]])"
            ]
          },
          "metadata": {
            "tags": []
          },
          "execution_count": 16
        }
      ]
    },
    {
      "cell_type": "code",
      "metadata": {
        "colab": {
          "base_uri": "https://localhost:8080/"
        },
        "id": "Wj9uK2HslI8g",
        "outputId": "7fb745c6-1c9d-4ff7-9389-7671356c343c"
      },
      "source": [
        "print(classification_report(y_pred,y_test))"
      ],
      "execution_count": 17,
      "outputs": [
        {
          "output_type": "stream",
          "text": [
            "              precision    recall  f1-score   support\n",
            "\n",
            "    negative       0.72      0.90      0.80       110\n",
            "    positive       0.90      0.73      0.81       140\n",
            "\n",
            "    accuracy                           0.80       250\n",
            "   macro avg       0.81      0.81      0.80       250\n",
            "weighted avg       0.82      0.80      0.80       250\n",
            "\n"
          ],
          "name": "stdout"
        }
      ]
    },
    {
      "cell_type": "code",
      "metadata": {
        "colab": {
          "base_uri": "https://localhost:8080/",
          "height": 72
        },
        "id": "7y5qRCBRlPwR",
        "outputId": "1afff1cc-70e9-475a-95c3-a931a734b4dd"
      },
      "source": [
        "# Evaluating for a specific message\n",
        "text = df['review'][10]\n",
        "print(text)\n",
        "df['sentiment'][10]"
      ],
      "execution_count": 18,
      "outputs": [
        {
          "output_type": "stream",
          "text": [
            "phil alien one quirky films humour based around oddness everything rather actual punchlinesat first odd pretty funny movie progressed not find jokes oddness funny anymoreits low budget film never problem pretty interesting characters eventually lost interesti imagine film would appeal stoner currently partakingfor something similar better try brother another planet\n"
          ],
          "name": "stdout"
        },
        {
          "output_type": "execute_result",
          "data": {
            "application/vnd.google.colaboratory.intrinsic+json": {
              "type": "string"
            },
            "text/plain": [
              "'negative'"
            ]
          },
          "metadata": {
            "tags": []
          },
          "execution_count": 18
        }
      ]
    },
    {
      "cell_type": "code",
      "metadata": {
        "colab": {
          "base_uri": "https://localhost:8080/"
        },
        "id": "tjc1jwqYl08A",
        "outputId": "65cd40ea-94aa-48ea-c0df-93d06a5be94e"
      },
      "source": [
        "text=vect.transform([text])\n",
        "model.predict(text)"
      ],
      "execution_count": 19,
      "outputs": [
        {
          "output_type": "execute_result",
          "data": {
            "text/plain": [
              "array(['negative'], dtype=object)"
            ]
          },
          "metadata": {
            "tags": []
          },
          "execution_count": 19
        }
      ]
    },
    {
      "cell_type": "code",
      "metadata": {
        "id": "zI6hlBHFl4xW"
      },
      "source": [
        "text_model = Pipeline([('vect',TfidfVectorizer()),('model',SVC())])"
      ],
      "execution_count": 20,
      "outputs": []
    },
    {
      "cell_type": "code",
      "metadata": {
        "colab": {
          "base_uri": "https://localhost:8080/"
        },
        "id": "iSFuAfZXl8Te",
        "outputId": "5096d101-0d75-47b6-f205-9ccf24e91876"
      },
      "source": [
        "text_model.fit(x_train,y_train)"
      ],
      "execution_count": 21,
      "outputs": [
        {
          "output_type": "execute_result",
          "data": {
            "text/plain": [
              "Pipeline(memory=None,\n",
              "         steps=[('vect',\n",
              "                 TfidfVectorizer(analyzer='word', binary=False,\n",
              "                                 decode_error='strict',\n",
              "                                 dtype=<class 'numpy.float64'>,\n",
              "                                 encoding='utf-8', input='content',\n",
              "                                 lowercase=True, max_df=1.0, max_features=None,\n",
              "                                 min_df=1, ngram_range=(1, 1), norm='l2',\n",
              "                                 preprocessor=None, smooth_idf=True,\n",
              "                                 stop_words=None, strip_accents=None,\n",
              "                                 sublinear_tf=False,\n",
              "                                 token_pattern='(?u)\\\\b\\\\w\\\\w+\\\\b',\n",
              "                                 tokenizer=None, use_idf=True,\n",
              "                                 vocabulary=None)),\n",
              "                ('model',\n",
              "                 SVC(C=1.0, break_ties=False, cache_size=200, class_weight=None,\n",
              "                     coef0=0.0, decision_function_shape='ovr', degree=3,\n",
              "                     gamma='scale', kernel='rbf', max_iter=-1,\n",
              "                     probability=False, random_state=None, shrinking=True,\n",
              "                     tol=0.001, verbose=False))],\n",
              "         verbose=False)"
            ]
          },
          "metadata": {
            "tags": []
          },
          "execution_count": 21
        }
      ]
    },
    {
      "cell_type": "code",
      "metadata": {
        "id": "fjuVT8a5l_rO"
      },
      "source": [
        "y_pred=text_model.predict(x_test)"
      ],
      "execution_count": 22,
      "outputs": []
    },
    {
      "cell_type": "code",
      "metadata": {
        "colab": {
          "base_uri": "https://localhost:8080/"
        },
        "id": "Wubm5DJRmDAl",
        "outputId": "f8724253-0232-408a-cbe4-ce5338e07c72"
      },
      "source": [
        "# Evaluating for a specific message\n",
        "text = df['review'][10]\n",
        "text_model.predict([text])"
      ],
      "execution_count": 23,
      "outputs": [
        {
          "output_type": "execute_result",
          "data": {
            "text/plain": [
              "array(['negative'], dtype=object)"
            ]
          },
          "metadata": {
            "tags": []
          },
          "execution_count": 23
        }
      ]
    },
    {
      "cell_type": "code",
      "metadata": {
        "colab": {
          "base_uri": "https://localhost:8080/"
        },
        "id": "xhTD9sR4mG_6",
        "outputId": "d83323f0-1394-4bce-c858-2102357f4797"
      },
      "source": [
        "joblib.dump(text_model,'sentiment_analyzer')"
      ],
      "execution_count": 24,
      "outputs": [
        {
          "output_type": "execute_result",
          "data": {
            "text/plain": [
              "['sentiment_analyzer']"
            ]
          },
          "metadata": {
            "tags": []
          },
          "execution_count": 24
        }
      ]
    },
    {
      "cell_type": "code",
      "metadata": {
        "colab": {
          "base_uri": "https://localhost:8080/"
        },
        "id": "o3Bskm8cmLYb",
        "outputId": "bae542e4-ccec-4d72-84da-2eb622e5564b"
      },
      "source": [
        "%%writefile app.py\n",
        "import streamlit as st\n",
        "import joblib \n",
        "model=joblib.load('sentiment_analyzer')\n",
        "st.title('Sentiment Analyzer')\n",
        "ip = st.text_input(\"Enter the Review\")\n",
        "op = model.predict([ip])\n",
        "if st.button('Predict'):\n",
        "  st.title(op[0])"
      ],
      "execution_count": 25,
      "outputs": [
        {
          "output_type": "stream",
          "text": [
            "Writing app.py\n"
          ],
          "name": "stdout"
        }
      ]
    },
    {
      "cell_type": "code",
      "metadata": {
        "colab": {
          "base_uri": "https://localhost:8080/"
        },
        "id": "alzPC_sGmSO3",
        "outputId": "711b25b2-e59c-45c2-9c98-a3b60208518e"
      },
      "source": [
        "!nohup streamlit run app.py &\n",
        "url = ngrok.connect(port='8501')\n",
        "print(url)"
      ],
      "execution_count": 26,
      "outputs": [
        {
          "output_type": "stream",
          "text": [
            "nohup: appending output to 'nohup.out'\n",
            "http://431e42b77466.ngrok.io\n"
          ],
          "name": "stdout"
        }
      ]
    },
    {
      "cell_type": "code",
      "metadata": {
        "colab": {
          "base_uri": "https://localhost:8080/"
        },
        "id": "54d-keLtmgxO",
        "outputId": "2071702c-1e3a-4824-aa0a-c37be7877428"
      },
      "source": [
        "import nltk\n",
        "import sklearn\n",
        "\n",
        "print('The nltk version is {}'.format(joblib.__version__))\n",
        "print('The scikit-learn version is {}'.format(sklearn.__version__))\n"
      ],
      "execution_count": 27,
      "outputs": [
        {
          "output_type": "stream",
          "text": [
            "The nltk version is 1.0.1\n",
            "The scikit-learn version is 0.22.2.post1\n"
          ],
          "name": "stdout"
        }
      ]
    }
  ]
}